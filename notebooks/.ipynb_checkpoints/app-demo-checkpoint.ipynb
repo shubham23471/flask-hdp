{
 "cells": [
  {
   "cell_type": "code",
   "execution_count": 2,
   "metadata": {},
   "outputs": [],
   "source": [
    "import json\n",
    "import pandas as pd"
   ]
  },
  {
   "cell_type": "code",
   "execution_count": 3,
   "metadata": {},
   "outputs": [
    {
     "name": "stdout",
     "output_type": "stream",
     "text": [
      "(729, 11)\n"
     ]
    },
    {
     "data": {
      "text/html": [
       "<div>\n",
       "<style scoped>\n",
       "    .dataframe tbody tr th:only-of-type {\n",
       "        vertical-align: middle;\n",
       "    }\n",
       "\n",
       "    .dataframe tbody tr th {\n",
       "        vertical-align: top;\n",
       "    }\n",
       "\n",
       "    .dataframe thead th {\n",
       "        text-align: right;\n",
       "    }\n",
       "</style>\n",
       "<table border=\"1\" class=\"dataframe\">\n",
       "  <thead>\n",
       "    <tr style=\"text-align: right;\">\n",
       "      <th></th>\n",
       "      <th>protocol</th>\n",
       "      <th>sender_number</th>\n",
       "      <th>date_epoch</th>\n",
       "      <th>type</th>\n",
       "      <th>msg_body</th>\n",
       "      <th>service_centre_number</th>\n",
       "      <th>read</th>\n",
       "      <th>date_sent_epoch</th>\n",
       "      <th>sub_id</th>\n",
       "      <th>readable_date</th>\n",
       "      <th>contact_name</th>\n",
       "    </tr>\n",
       "  </thead>\n",
       "  <tbody>\n",
       "    <tr>\n",
       "      <th>0</th>\n",
       "      <td>0</td>\n",
       "      <td>CP-EXLHRO</td>\n",
       "      <td>1605682960247</td>\n",
       "      <td>1</td>\n",
       "      <td>Hi Shubham, Do you have an HR Query? Call 0008...</td>\n",
       "      <td>9.170121e+11</td>\n",
       "      <td>1</td>\n",
       "      <td>1605682951000</td>\n",
       "      <td>1</td>\n",
       "      <td>Nov 18, 2020 12:32:40</td>\n",
       "      <td>(Unknown)</td>\n",
       "    </tr>\n",
       "    <tr>\n",
       "      <th>1</th>\n",
       "      <td>0</td>\n",
       "      <td>AX-BAJAJF</td>\n",
       "      <td>1605797976331</td>\n",
       "      <td>1</td>\n",
       "      <td>Congratulations! You are Pre-approved for Baja...</td>\n",
       "      <td>9.170121e+11</td>\n",
       "      <td>1</td>\n",
       "      <td>1605797974000</td>\n",
       "      <td>1</td>\n",
       "      <td>Nov 19, 2020 20:29:36</td>\n",
       "      <td>(Unknown)</td>\n",
       "    </tr>\n",
       "    <tr>\n",
       "      <th>2</th>\n",
       "      <td>0</td>\n",
       "      <td>VM-EPFOHO</td>\n",
       "      <td>1605941145671</td>\n",
       "      <td>1</td>\n",
       "      <td>Dear 100938733988, your passbook balance again...</td>\n",
       "      <td>9.170121e+11</td>\n",
       "      <td>1</td>\n",
       "      <td>1605941143000</td>\n",
       "      <td>1</td>\n",
       "      <td>Nov 21, 2020 12:15:45</td>\n",
       "      <td>(Unknown)</td>\n",
       "    </tr>\n",
       "    <tr>\n",
       "      <th>3</th>\n",
       "      <td>0</td>\n",
       "      <td>BP-iPaytm</td>\n",
       "      <td>1606231065906</td>\n",
       "      <td>1</td>\n",
       "      <td>Download your account statement from 24-10-202...</td>\n",
       "      <td>9.170121e+11</td>\n",
       "      <td>1</td>\n",
       "      <td>1038151062000</td>\n",
       "      <td>1</td>\n",
       "      <td>Nov 24, 2020 20:47:45</td>\n",
       "      <td>(Unknown)</td>\n",
       "    </tr>\n",
       "    <tr>\n",
       "      <th>4</th>\n",
       "      <td>0</td>\n",
       "      <td>JE-JIONET</td>\n",
       "      <td>1606311432038</td>\n",
       "      <td>1</td>\n",
       "      <td>Dear Customer, \\n662738 is your one time passw...</td>\n",
       "      <td>9.170121e+11</td>\n",
       "      <td>1</td>\n",
       "      <td>1606311431000</td>\n",
       "      <td>1</td>\n",
       "      <td>Nov 25, 2020 19:07:12</td>\n",
       "      <td>(Unknown)</td>\n",
       "    </tr>\n",
       "  </tbody>\n",
       "</table>\n",
       "</div>"
      ],
      "text/plain": [
       "   protocol sender_number     date_epoch  type  \\\n",
       "0         0     CP-EXLHRO  1605682960247     1   \n",
       "1         0     AX-BAJAJF  1605797976331     1   \n",
       "2         0     VM-EPFOHO  1605941145671     1   \n",
       "3         0     BP-iPaytm  1606231065906     1   \n",
       "4         0     JE-JIONET  1606311432038     1   \n",
       "\n",
       "                                            msg_body  service_centre_number  \\\n",
       "0  Hi Shubham, Do you have an HR Query? Call 0008...           9.170121e+11   \n",
       "1  Congratulations! You are Pre-approved for Baja...           9.170121e+11   \n",
       "2  Dear 100938733988, your passbook balance again...           9.170121e+11   \n",
       "3  Download your account statement from 24-10-202...           9.170121e+11   \n",
       "4  Dear Customer, \\n662738 is your one time passw...           9.170121e+11   \n",
       "\n",
       "   read  date_sent_epoch  sub_id          readable_date contact_name  \n",
       "0     1    1605682951000       1  Nov 18, 2020 12:32:40    (Unknown)  \n",
       "1     1    1605797974000       1  Nov 19, 2020 20:29:36    (Unknown)  \n",
       "2     1    1605941143000       1  Nov 21, 2020 12:15:45    (Unknown)  \n",
       "3     1    1038151062000       1  Nov 24, 2020 20:47:45    (Unknown)  \n",
       "4     1    1606311431000       1  Nov 25, 2020 19:07:12    (Unknown)  "
      ]
     },
     "execution_count": 3,
     "metadata": {},
     "output_type": "execute_result"
    }
   ],
   "source": [
    "final_data = pd.read_csv('../inout/csv/sms-20210307001157.csv')\n",
    "print(final_data.shape)\n",
    "final_data.head()"
   ]
  },
  {
   "cell_type": "code",
   "execution_count": 9,
   "metadata": {},
   "outputs": [],
   "source": [
    "with open('../inout/json/sms-20210307001157.json') as f :\n",
    "    json_data = json.load(f)"
   ]
  },
  {
   "cell_type": "code",
   "execution_count": null,
   "metadata": {},
   "outputs": [],
   "source": []
  },
  {
   "cell_type": "code",
   "execution_count": 17,
   "metadata": {},
   "outputs": [
    {
     "data": {
      "text/plain": [
       "16"
      ]
     },
     "execution_count": 17,
     "metadata": {},
     "output_type": "execute_result"
    }
   ],
   "source": [
    "len(json_data[0].keys())"
   ]
  },
  {
   "cell_type": "code",
   "execution_count": null,
   "metadata": {},
   "outputs": [],
   "source": []
  },
  {
   "cell_type": "code",
   "execution_count": 1,
   "metadata": {},
   "outputs": [
    {
     "ename": "NameError",
     "evalue": "name 'json_data' is not defined",
     "output_type": "error",
     "traceback": [
      "\u001b[0;31m---------------------------------------------------------------------------\u001b[0m",
      "\u001b[0;31mNameError\u001b[0m                                 Traceback (most recent call last)",
      "\u001b[0;32m<ipython-input-1-8632980e11ee>\u001b[0m in \u001b[0;36m<module>\u001b[0;34m\u001b[0m\n\u001b[0;32m----> 1\u001b[0;31m \u001b[0;32mfor\u001b[0m \u001b[0msms\u001b[0m \u001b[0;32min\u001b[0m \u001b[0mjson_data\u001b[0m\u001b[0;34m:\u001b[0m\u001b[0;34m\u001b[0m\u001b[0;34m\u001b[0m\u001b[0m\n\u001b[0m\u001b[1;32m      2\u001b[0m     \u001b[0mprint\u001b[0m\u001b[0;34m(\u001b[0m\u001b[0msms\u001b[0m\u001b[0;34m)\u001b[0m\u001b[0;34m\u001b[0m\u001b[0;34m\u001b[0m\u001b[0m\n\u001b[1;32m      3\u001b[0m \u001b[0;34m\u001b[0m\u001b[0m\n",
      "\u001b[0;31mNameError\u001b[0m: name 'json_data' is not defined"
     ]
    }
   ],
   "source": [
    "for sms in json_data:\n",
    "    print(sms)\n",
    "    "
   ]
  },
  {
   "cell_type": "markdown",
   "metadata": {},
   "source": [
    "## Pyhive demo "
   ]
  },
  {
   "cell_type": "code",
   "execution_count": 2,
   "metadata": {},
   "outputs": [
    {
     "ename": "ModuleNotFoundError",
     "evalue": "No module named 'pyhive'",
     "output_type": "error",
     "traceback": [
      "\u001b[0;31m---------------------------------------------------------------------------\u001b[0m",
      "\u001b[0;31mModuleNotFoundError\u001b[0m                       Traceback (most recent call last)",
      "\u001b[0;32m<ipython-input-2-221e3a5e1f32>\u001b[0m in \u001b[0;36m<module>\u001b[0;34m\u001b[0m\n\u001b[1;32m      1\u001b[0m \u001b[0;32mimport\u001b[0m \u001b[0mpandas\u001b[0m \u001b[0;32mas\u001b[0m \u001b[0mpd\u001b[0m\u001b[0;34m\u001b[0m\u001b[0;34m\u001b[0m\u001b[0m\n\u001b[0;32m----> 2\u001b[0;31m \u001b[0;32mfrom\u001b[0m \u001b[0mpyhive\u001b[0m \u001b[0;32mimport\u001b[0m \u001b[0mhive\u001b[0m\u001b[0;34m\u001b[0m\u001b[0;34m\u001b[0m\u001b[0m\n\u001b[0m",
      "\u001b[0;31mModuleNotFoundError\u001b[0m: No module named 'pyhive'"
     ]
    }
   ],
   "source": [
    "import pandas as pd \n",
    "from pyhive import hive"
   ]
  },
  {
   "cell_type": "code",
   "execution_count": null,
   "metadata": {},
   "outputs": [],
   "source": []
  },
  {
   "cell_type": "code",
   "execution_count": null,
   "metadata": {},
   "outputs": [],
   "source": []
  },
  {
   "cell_type": "code",
   "execution_count": null,
   "metadata": {},
   "outputs": [],
   "source": []
  }
 ],
 "metadata": {
  "kernelspec": {
   "display_name": "Python 3",
   "language": "python",
   "name": "python3"
  },
  "language_info": {
   "codemirror_mode": {
    "name": "ipython",
    "version": 3
   },
   "file_extension": ".py",
   "mimetype": "text/x-python",
   "name": "python",
   "nbconvert_exporter": "python",
   "pygments_lexer": "ipython3",
   "version": "3.8.3"
  }
 },
 "nbformat": 4,
 "nbformat_minor": 4
}
